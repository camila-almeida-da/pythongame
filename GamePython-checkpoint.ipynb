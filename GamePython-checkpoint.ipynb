{
 "cells": [
  {
   "cell_type": "markdown",
   "metadata": {},
   "source": [
    "# Rolling the dice"
   ]
  },
  {
   "cell_type": "code",
   "execution_count": 4,
   "metadata": {},
   "outputs": [],
   "source": [
    "import random"
   ]
  },
  {
   "cell_type": "code",
   "execution_count": 5,
   "metadata": {},
   "outputs": [
    {
     "name": "stdout",
     "output_type": "stream",
     "text": [
      "Rolling the dices...\n",
      "The values are...\n",
      "5\n",
      "1\n",
      "Roll the dices again?não\n",
      "The End\n"
     ]
    }
   ],
   "source": [
    "min = 1\n",
    "max = 6\n",
    "\n",
    "roll_again = \"yes\"\n",
    "\n",
    "while roll_again == \"yes\" or roll_again == \"y\":\n",
    "    print (\"Rolling the dices...\")\n",
    "    print (\"The values are...\")\n",
    "    print (random.randint(min, max))\n",
    "    print (random.randint(min,max))\n",
    "    \n",
    "    roll_again = input(\"Roll the dices again?\")\n",
    "    \n",
    "else:\n",
    "    print (\"The End\")\n"
   ]
  },
  {
   "cell_type": "markdown",
   "metadata": {},
   "source": [
    "# Jokenpo"
   ]
  },
  {
   "cell_type": "code",
   "execution_count": 32,
   "metadata": {},
   "outputs": [
    {
     "name": "stdout",
     "output_type": "stream",
     "text": [
      "Suas opções:\n",
      "[ 0 ] PEDRA\n",
      "[ 1 ] PAPEL\n",
      "[ 2 ] TESOURA\n",
      "Qual a sua jogada?2\n",
      "**************************\n",
      "Computador jogou: Pedra\n",
      "Jogador jogou: Tesoura\n",
      "**************************\n",
      "Computador vence!\n"
     ]
    }
   ],
   "source": [
    "from random import randint\n",
    "itens = ('Pedra', 'Papel', 'Tesoura')\n",
    "computador = randint(0,2)\n",
    "print('''Suas opções:\n",
    "[ 0 ] PEDRA\n",
    "[ 1 ] PAPEL\n",
    "[ 2 ] TESOURA''')\n",
    "jogador = int(input('Qual a sua jogada?'))\n",
    "print('**' * 13)\n",
    "print ('Computador jogou: {}'.format(itens[computador]))\n",
    "print('Jogador jogou: {}'.format(itens[jogador]))\n",
    "print('**' * 13)\n",
    "\n",
    "if computador == 0: #computador jogou pedra. Testar todas as possíbilidades do jogador!\n",
    "    if jogador == 0:\n",
    "        print(\"Empate!\")\n",
    "    \n",
    "    elif jogador == 1:\n",
    "        print(\"Jogador vence!\")\n",
    "    \n",
    "    elif jogador == 2:\n",
    "        print(\"Computador vence!\")\n",
    "    \n",
    "    else: \n",
    "        print ('JOGADA INVÁLIDA!!')  \n",
    "    \n",
    "elif computador == 1: ##computador jogou papel\n",
    "    if jogador == 0:\n",
    "            print(\"Computador vence!\")\n",
    "    \n",
    "    elif jogador == 1:\n",
    "            print(\"Empate!\")\n",
    "    \n",
    "    elif jogador == 2:\n",
    "            print(\"Jogador vence!\")\n",
    "    \n",
    "    else: \n",
    "        print ('JOGADA INVÁLIDA!!') \n",
    "    \n",
    "elif computador == 2: #computador jogou tesoura\n",
    "    if jogador == 0:\n",
    "            print(\"Jogador vence!\")\n",
    "    \n",
    "    elif jogador == 1:\n",
    "            print(\"Computador vence!\")\n",
    "    \n",
    "    elif jogador == 2:\n",
    "            print(\"Computadpr vence!\")\n",
    "    else: \n",
    "        print ('JOGADA INVÁLIDA!!') \n",
    "\n"
   ]
  },
  {
   "cell_type": "code",
   "execution_count": null,
   "metadata": {},
   "outputs": [],
   "source": []
  },
  {
   "cell_type": "code",
   "execution_count": null,
   "metadata": {},
   "outputs": [],
   "source": []
  },
  {
   "cell_type": "code",
   "execution_count": null,
   "metadata": {},
   "outputs": [],
   "source": []
  },
  {
   "cell_type": "code",
   "execution_count": null,
   "metadata": {},
   "outputs": [],
   "source": []
  },
  {
   "cell_type": "code",
   "execution_count": null,
   "metadata": {},
   "outputs": [],
   "source": []
  },
  {
   "cell_type": "code",
   "execution_count": null,
   "metadata": {},
   "outputs": [],
   "source": []
  },
  {
   "cell_type": "code",
   "execution_count": null,
   "metadata": {},
   "outputs": [],
   "source": []
  },
  {
   "cell_type": "code",
   "execution_count": null,
   "metadata": {},
   "outputs": [],
   "source": []
  },
  {
   "cell_type": "code",
   "execution_count": null,
   "metadata": {},
   "outputs": [],
   "source": []
  },
  {
   "cell_type": "code",
   "execution_count": null,
   "metadata": {},
   "outputs": [],
   "source": []
  },
  {
   "cell_type": "code",
   "execution_count": null,
   "metadata": {},
   "outputs": [],
   "source": []
  },
  {
   "cell_type": "code",
   "execution_count": null,
   "metadata": {},
   "outputs": [],
   "source": []
  }
 ],
 "metadata": {
  "kernelspec": {
   "display_name": "Python 3",
   "language": "python",
   "name": "python3"
  },
  "language_info": {
   "codemirror_mode": {
    "name": "ipython",
    "version": 3
   },
   "file_extension": ".py",
   "mimetype": "text/x-python",
   "name": "python",
   "nbconvert_exporter": "python",
   "pygments_lexer": "ipython3",
   "version": "3.8.5"
  }
 },
 "nbformat": 4,
 "nbformat_minor": 4
}
