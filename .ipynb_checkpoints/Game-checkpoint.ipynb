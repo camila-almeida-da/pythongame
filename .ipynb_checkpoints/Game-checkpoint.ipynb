{
 "cells": [
  {
   "cell_type": "code",
   "execution_count": 1,
   "metadata": {},
   "outputs": [],
   "source": [
    "from random import randint"
   ]
  },
  {
   "cell_type": "code",
   "execution_count": 2,
   "metadata": {},
   "outputs": [
    {
     "name": "stdout",
     "output_type": "stream",
     "text": [
      "Diga um valor: 5\n",
      "Par ou Ímpar? [P/I]:  p\n",
      "Você jogou 5 e o computador 7. Total de 12\n",
      "Você VENCEU!\n",
      "Vamos jogar novamente...\n",
      "Diga um valor: 6\n",
      "Par ou Ímpar? [P/I]:  i\n",
      "Você jogou 6 e o computador 6. Total de 12\n",
      "Você PERDEU!\n",
      "GAME OVER ! Você venceu 1 vezes!\n"
     ]
    }
   ],
   "source": [
    "v = 0\n",
    "while True:\n",
    "    jogador = int(input(\"Diga um valor: \"))\n",
    "    computador = randint(0, 10)\n",
    "    total = jogador + computador\n",
    "    tipo = ' '\n",
    "    while tipo not in 'PI':\n",
    "        tipo = str(input('Par ou Ímpar? [P/I]:  ')).strip().upper()[0]\n",
    "    print(f'Você jogou {jogador} e o computador {computador}. Total de {total}')\n",
    "    \n",
    "    if tipo == 'P':\n",
    "        if total % 2 == 0:\n",
    "            print ('Você VENCEU!')\n",
    "            v += 1\n",
    "        else:\n",
    "            print('Você PERDEU!')\n",
    "            break\n",
    "    elif tipo == 'I':\n",
    "        if total % 2 == 1:\n",
    "            print(\"Você VENCEU!\")\n",
    "            v += 1\n",
    "        else:\n",
    "            print(\"Você PERDEU!\")\n",
    "            break    \n",
    "    print(\"Vamos jogar novamente...\")\n",
    "print(f'GAME OVER ! Você venceu {v} vezes!') "
   ]
  },
  {
   "cell_type": "code",
   "execution_count": null,
   "metadata": {},
   "outputs": [],
   "source": []
  },
  {
   "cell_type": "code",
   "execution_count": null,
   "metadata": {},
   "outputs": [],
   "source": []
  }
 ],
 "metadata": {
  "kernelspec": {
   "display_name": "Python 3",
   "language": "python",
   "name": "python3"
  },
  "language_info": {
   "codemirror_mode": {
    "name": "ipython",
    "version": 3
   },
   "file_extension": ".py",
   "mimetype": "text/x-python",
   "name": "python",
   "nbconvert_exporter": "python",
   "pygments_lexer": "ipython3",
   "version": "3.8.5"
  }
 },
 "nbformat": 4,
 "nbformat_minor": 4
}
