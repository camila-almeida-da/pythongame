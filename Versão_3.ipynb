{
 "cells": [
  {
   "cell_type": "markdown",
   "metadata": {},
   "source": [
    "## JOKENPO"
   ]
  },
  {
   "cell_type": "code",
   "execution_count": 14,
   "metadata": {},
   "outputs": [
    {
     "name": "stdout",
     "output_type": "stream",
     "text": [
      "Suas opções:\n",
      "[ 0 ] PEDRA\n",
      "[ 1 ] PAPEL\n",
      "[ 2 ] TESOURA\n",
      "Qual a sua jogada jogador_1?: 2\n",
      "Qual a sua jogada jogador_2?: 0\n",
      "***************************************\n",
      "jogador_1 jogou: Tesoura\n",
      "jogador_2 jogou: Pedra\n",
      "***************************************\n",
      "Jogador_2 Venceu!\n"
     ]
    }
   ],
   "source": [
    "itens = ('Pedra', 'Papel', 'Tesoura')\n",
    "print('''Suas opções:\n",
    "[ 0 ] PEDRA\n",
    "[ 1 ] PAPEL\n",
    "[ 2 ] TESOURA''')\n",
    "jogador_1 = int(input(\"Qual a sua jogada jogador_1?: \"))\n",
    "jogador_2 = int(input(\"Qual a sua jogada jogador_2?: \"))\n",
    "print (\"***\" * 13)\n",
    "print ('jogador_1 jogou: {}'.format(itens[jogador_1]))\n",
    "print ('jogador_2 jogou: {}'.format(itens[jogador_2]))\n",
    "print(\"***\" * 13)\n",
    "\n",
    "if jogador_1 == 0: #se o jogador jogar 0 e descreve todas as possibilidades\n",
    "    if jogador_2 == 0:\n",
    "        print(\"Empate!!\")\n",
    "    elif jogador_2 == 1:\n",
    "        print(\"Jogador_2 Venceu!!\")\n",
    "    elif jogador_2 == 2: \n",
    "        print(\"Jogador_1 Venceu!\")\n",
    "        \n",
    "elif jogador_1 == 1: #se o jogador jogar 0 e descreve todas as possibilidades\n",
    "    if jogador_2 == 0:\n",
    "        print(\"Jogador 1 Venceu!!\")\n",
    "    elif jogador_2 == 1:\n",
    "        print(\"Empate!!\")\n",
    "    elif jogador_2 == 2:\n",
    "        print(\"Jogador 2 venceuu!!\")\n",
    "        \n",
    "elif jogador_1 == 2:\n",
    "    if jogador_2 == 0:\n",
    "        print(\"Jogador_2 Venceu!\")\n",
    "    if jogador_2 == 1:\n",
    "        print(\"Jogador 1 venceu!\")\n",
    "    if jogador_2 == 2:\n",
    "        print(\"Empate!!\")\n",
    "\n",
    "        \n",
    "#como não imprimir o que o jogador 2 escreveu\n",
    "        \n",
    "   \n",
    "        \n",
    "    "
   ]
  },
  {
   "cell_type": "code",
   "execution_count": null,
   "metadata": {},
   "outputs": [],
   "source": []
  }
 ],
 "metadata": {
  "kernelspec": {
   "display_name": "Python 3",
   "language": "python",
   "name": "python3"
  },
  "language_info": {
   "codemirror_mode": {
    "name": "ipython",
    "version": 3
   },
   "file_extension": ".py",
   "mimetype": "text/x-python",
   "name": "python",
   "nbconvert_exporter": "python",
   "pygments_lexer": "ipython3",
   "version": "3.8.5"
  }
 },
 "nbformat": 4,
 "nbformat_minor": 4
}
