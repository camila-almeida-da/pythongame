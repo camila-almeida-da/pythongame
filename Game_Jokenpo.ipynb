{
 "cells": [
  {
   "cell_type": "code",
   "execution_count": 5,
   "metadata": {},
   "outputs": [
    {
     "name": "stdout",
     "output_type": "stream",
     "text": [
      "Suas opções:\n",
      "[ 0 ] PEDRA\n",
      "[ 1 ] PAPEL\n",
      "[ 2 ] TESOURA\n",
      "Qual a sua jogada?0\n",
      "**************************\n",
      "Computador jogou: Papel\n",
      "Jogador jogou: Pedra\n",
      "**************************\n",
      "Computador vence!\n"
     ]
    }
   ],
   "source": [
    "from random import randint\n",
    "itens = ('Pedra', 'Papel', 'Tesoura')\n",
    "computador = randint(0,2)\n",
    "print('''Suas opções:\n",
    "[ 0 ] PEDRA\n",
    "[ 1 ] PAPEL\n",
    "[ 2 ] TESOURA''')\n",
    "\n",
    "jogador = int(input('Qual a sua jogada?'))\n",
    "\n",
    "print('**' * 13)\n",
    "print ('Computador jogou: {}'.format(itens[computador]))\n",
    "print('Jogador jogou: {}'.format(itens[jogador]))\n",
    "print('**' * 13)\n",
    "\n",
    "if computador == 0: #computador jogou pedra. Testar todas as possíbilidades do jogador!\n",
    "    if jogador == 0:\n",
    "        print(\"Empate!\")\n",
    "    \n",
    "    elif jogador == 1:\n",
    "        print(\"Jogador vence!\")\n",
    "    \n",
    "    \n",
    "    elif jogador == 2:\n",
    "        print(\"Computador vence!\")\n",
    "    \n",
    "    else: \n",
    "        print ('JOGADA INVÁLIDA!!')  \n",
    "    \n",
    "elif computador == 1: ##computador jogou papel\n",
    "    if jogador == 0:\n",
    "            print(\"Computador vence!\")\n",
    "    \n",
    "    elif jogador == 1:\n",
    "            print(\"Empate!\")\n",
    "    \n",
    "    elif jogador == 2:\n",
    "            print(\"Jogador vence!\")\n",
    "          \n",
    "    \n",
    "    else: \n",
    "        print ('JOGADA INVÁLIDA!!') \n",
    "    \n",
    "elif computador == 2: #computador jogou tesoura\n",
    "    if jogador == 0:\n",
    "            print(\"Jogador vence!\")\n",
    "            \n",
    "    \n",
    "    elif jogador == 1:\n",
    "            print(\"Computador vence!\")\n",
    "    \n",
    "    elif jogador == 2:\n",
    "            print(\"Computador vence!\")\n",
    "    else: \n",
    "        print ('JOGADA INVÁLIDA!!') \n",
    "    "
   ]
  },
  {
   "cell_type": "code",
   "execution_count": null,
   "metadata": {},
   "outputs": [],
   "source": []
  },
  {
   "cell_type": "code",
   "execution_count": null,
   "metadata": {},
   "outputs": [],
   "source": []
  },
  {
   "cell_type": "code",
   "execution_count": null,
   "metadata": {},
   "outputs": [],
   "source": []
  },
  {
   "cell_type": "code",
   "execution_count": null,
   "metadata": {},
   "outputs": [],
   "source": []
  },
  {
   "cell_type": "code",
   "execution_count": null,
   "metadata": {},
   "outputs": [],
   "source": []
  },
  {
   "cell_type": "code",
   "execution_count": null,
   "metadata": {},
   "outputs": [],
   "source": []
  },
  {
   "cell_type": "code",
   "execution_count": null,
   "metadata": {},
   "outputs": [],
   "source": []
  },
  {
   "cell_type": "code",
   "execution_count": null,
   "metadata": {},
   "outputs": [],
   "source": []
  }
 ],
 "metadata": {
  "kernelspec": {
   "display_name": "Python 3",
   "language": "python",
   "name": "python3"
  },
  "language_info": {
   "codemirror_mode": {
    "name": "ipython",
    "version": 3
   },
   "file_extension": ".py",
   "mimetype": "text/x-python",
   "name": "python",
   "nbconvert_exporter": "python",
   "pygments_lexer": "ipython3",
   "version": "3.8.5"
  }
 },
 "nbformat": 4,
 "nbformat_minor": 4
}
